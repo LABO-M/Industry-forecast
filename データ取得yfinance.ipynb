{
  "nbformat": 4,
  "nbformat_minor": 0,
  "metadata": {
    "colab": {
      "provenance": []
    },
    "kernelspec": {
      "name": "python3",
      "display_name": "Python 3"
    },
    "language_info": {
      "name": "python"
    }
  },
  "cells": [
    {
      "cell_type": "code",
      "source": [
        "!pip install --upgrade yfinance"
      ],
      "metadata": {
        "colab": {
          "base_uri": "https://localhost:8080/"
        },
        "id": "ZWGCvAXIikni",
        "outputId": "057b101d-1085-4e7c-9a67-9bac242551e9"
      },
      "execution_count": null,
      "outputs": [
        {
          "output_type": "stream",
          "name": "stdout",
          "text": [
            "Requirement already satisfied: yfinance in /usr/local/lib/python3.10/dist-packages (0.2.51)\n",
            "Requirement already satisfied: pandas>=1.3.0 in /usr/local/lib/python3.10/dist-packages (from yfinance) (2.2.2)\n",
            "Requirement already satisfied: numpy>=1.16.5 in /usr/local/lib/python3.10/dist-packages (from yfinance) (1.26.4)\n",
            "Requirement already satisfied: requests>=2.31 in /usr/local/lib/python3.10/dist-packages (from yfinance) (2.32.3)\n",
            "Requirement already satisfied: multitasking>=0.0.7 in /usr/local/lib/python3.10/dist-packages (from yfinance) (0.0.11)\n",
            "Requirement already satisfied: lxml>=4.9.1 in /usr/local/lib/python3.10/dist-packages (from yfinance) (5.3.0)\n",
            "Requirement already satisfied: platformdirs>=2.0.0 in /usr/local/lib/python3.10/dist-packages (from yfinance) (4.3.6)\n",
            "Requirement already satisfied: pytz>=2022.5 in /usr/local/lib/python3.10/dist-packages (from yfinance) (2024.2)\n",
            "Requirement already satisfied: frozendict>=2.3.4 in /usr/local/lib/python3.10/dist-packages (from yfinance) (2.4.6)\n",
            "Requirement already satisfied: peewee>=3.16.2 in /usr/local/lib/python3.10/dist-packages (from yfinance) (3.17.8)\n",
            "Requirement already satisfied: beautifulsoup4>=4.11.1 in /usr/local/lib/python3.10/dist-packages (from yfinance) (4.12.3)\n",
            "Requirement already satisfied: html5lib>=1.1 in /usr/local/lib/python3.10/dist-packages (from yfinance) (1.1)\n",
            "Requirement already satisfied: soupsieve>1.2 in /usr/local/lib/python3.10/dist-packages (from beautifulsoup4>=4.11.1->yfinance) (2.6)\n",
            "Requirement already satisfied: six>=1.9 in /usr/local/lib/python3.10/dist-packages (from html5lib>=1.1->yfinance) (1.17.0)\n",
            "Requirement already satisfied: webencodings in /usr/local/lib/python3.10/dist-packages (from html5lib>=1.1->yfinance) (0.5.1)\n",
            "Requirement already satisfied: python-dateutil>=2.8.2 in /usr/local/lib/python3.10/dist-packages (from pandas>=1.3.0->yfinance) (2.8.2)\n",
            "Requirement already satisfied: tzdata>=2022.7 in /usr/local/lib/python3.10/dist-packages (from pandas>=1.3.0->yfinance) (2024.2)\n",
            "Requirement already satisfied: charset-normalizer<4,>=2 in /usr/local/lib/python3.10/dist-packages (from requests>=2.31->yfinance) (3.4.1)\n",
            "Requirement already satisfied: idna<4,>=2.5 in /usr/local/lib/python3.10/dist-packages (from requests>=2.31->yfinance) (3.10)\n",
            "Requirement already satisfied: urllib3<3,>=1.21.1 in /usr/local/lib/python3.10/dist-packages (from requests>=2.31->yfinance) (2.3.0)\n",
            "Requirement already satisfied: certifi>=2017.4.17 in /usr/local/lib/python3.10/dist-packages (from requests>=2.31->yfinance) (2024.12.14)\n"
          ]
        }
      ]
    },
    {
      "cell_type": "code",
      "execution_count": null,
      "metadata": {
        "id": "xk-ORI8TABwB",
        "colab": {
          "base_uri": "https://localhost:8080/"
        },
        "outputId": "7e494b1a-7c5c-4d26-9b41-d7d43641e595"
      },
      "outputs": [
        {
          "output_type": "stream",
          "name": "stdout",
          "text": [
            "Requirement already satisfied: pandas in /usr/local/lib/python3.10/dist-packages (2.2.2)\n",
            "Collecting jpholiday\n",
            "  Downloading jpholiday-0.1.10-py3-none-any.whl.metadata (6.4 kB)\n",
            "Requirement already satisfied: numpy>=1.22.4 in /usr/local/lib/python3.10/dist-packages (from pandas) (1.26.4)\n",
            "Requirement already satisfied: python-dateutil>=2.8.2 in /usr/local/lib/python3.10/dist-packages (from pandas) (2.8.2)\n",
            "Requirement already satisfied: pytz>=2020.1 in /usr/local/lib/python3.10/dist-packages (from pandas) (2024.2)\n",
            "Requirement already satisfied: tzdata>=2022.7 in /usr/local/lib/python3.10/dist-packages (from pandas) (2024.2)\n",
            "Requirement already satisfied: six>=1.5 in /usr/local/lib/python3.10/dist-packages (from python-dateutil>=2.8.2->pandas) (1.17.0)\n",
            "Downloading jpholiday-0.1.10-py3-none-any.whl (9.8 kB)\n",
            "Installing collected packages: jpholiday\n",
            "Successfully installed jpholiday-0.1.10\n"
          ]
        }
      ],
      "source": [
        "!pip install pandas jpholiday"
      ]
    },
    {
      "cell_type": "code",
      "source": [
        "import pandas as pd\n",
        "from google.colab import drive\n",
        "\n",
        "# Google Driveをマウント\n",
        "drive.mount('/content/drive')"
      ],
      "metadata": {
        "id": "zM3X9AZWAS9_",
        "colab": {
          "base_uri": "https://localhost:8080/"
        },
        "outputId": "14cd4bd8-7bb9-47ca-d706-f7da0d838de2"
      },
      "execution_count": null,
      "outputs": [
        {
          "output_type": "stream",
          "name": "stdout",
          "text": [
            "Mounted at /content/drive\n"
          ]
        }
      ]
    },
    {
      "cell_type": "code",
      "source": [
        "import pandas as pd\n",
        "import time\n",
        "\n",
        "# ファイルパスを指定\n",
        "file_path = '/content/drive/MyDrive/csvファイル保存用/seikei_merged_df2_v3.csv'\n",
        "\n",
        "# CSVファイルを読み込む\n",
        "df_Y = pd.read_csv(file_path)\n",
        "\n",
        "# データフレームの先頭10行を取得\n",
        "#df_Y = df.head(100).copy()  # スライスのコピーを作成\n",
        "\n",
        "\n",
        "# 証券コードを整数型に変換\n",
        "#df_Y[\"証券コード\"] = df_Y[\"証券コード\"].astype(int)\n",
        "\n",
        "# 証券コードが4448の最初の行のインデックスを取得\n",
        "start_index = df_Y[df_Y[\"証券コード\"] == 4448].index[0]\n",
        "\n",
        "# その行以降の1000行を取得\n",
        "df_Y = df_Y.iloc[start_index : start_index + 200].copy()\n",
        "\n",
        "# データフレームの先頭5行を表示\n",
        "print(df_Y.head())\n",
        "df_Y.shape"
      ],
      "metadata": {
        "id": "yOZJKPv5AVjh",
        "colab": {
          "base_uri": "https://localhost:8080/"
        },
        "outputId": "393df6d8-b533-4f05-e9d3-454e110255af"
      },
      "execution_count": null,
      "outputs": [
        {
          "output_type": "stream",
          "name": "stdout",
          "text": [
            "    証券コード         提出日   提出日_180日後\n",
            "81   4448  2023-03-30  2023-09-26\n",
            "82   4180  2023-03-30  2023-09-26\n",
            "83   5027  2023-03-30  2023-09-26\n",
            "84   2170  2023-03-30  2023-09-26\n",
            "85   6915  2023-03-30  2023-09-26\n"
          ]
        },
        {
          "output_type": "execute_result",
          "data": {
            "text/plain": [
              "(200, 3)"
            ]
          },
          "metadata": {},
          "execution_count": 3
        }
      ]
    },
    {
      "cell_type": "code",
      "source": [
        "import yfinance as yf\n",
        "import pandas as pd\n",
        "from datetime import datetime, timedelta\n",
        "import jpholiday\n",
        "from tqdm import tqdm\n",
        "from IPython.display import display\n",
        "import time\n",
        "\n",
        "# 土日や祝日をスキップして次の平日を返す関数\n",
        "def adjust_to_next_weekday(date):\n",
        "    if isinstance(date, str):  # 文字列ならdatetimeに変換\n",
        "        date = datetime.strptime(date, \"%Y-%m-%d\")\n",
        "    while date.weekday() >= 5 or jpholiday.is_holiday(date):  # 土日または祝日なら\n",
        "        date += timedelta(days=1)  # 次の平日に進む\n",
        "    return date\n",
        "\n",
        "def get_adjusted_close_with_calculation(code, date):\n",
        "    \"\"\"\n",
        "    指定された証券コードと日付について、調整済み終値を取得する。\n",
        "    Adjusted Closeがある場合はそのまま、ない場合はCloseを分割調整。\n",
        "    \"\"\"\n",
        "    ticker = f\"{code}.T\"\n",
        "    start_date = date.strftime(\"%Y-%m-%d\")\n",
        "    end_date = (date + timedelta(days=1)).strftime(\"%Y-%m-%d\")\n",
        "\n",
        "    ticker_data = yf.Ticker(ticker)\n",
        "\n",
        "    hist = ticker_data.history(start=start_date, end=end_date)\n",
        "    splits = ticker_data.splits\n",
        "\n",
        "    if not hist.empty:\n",
        "      if 'Adj Close' in hist.columns:  # Adjusted Closeがある場合\n",
        "          return hist[\"Adj Close\"].iloc[0]\n",
        "      elif 'Close' in hist.columns:  # Adjusted Closeがない場合\n",
        "          close_price = hist[\"Close\"].iloc[0]\n",
        "\n",
        "          # 分割調整\n",
        "          if not splits.empty:\n",
        "              try:\n",
        "                  split_factor = splits[splits.index <= date].prod()  # 累積分割比率\n",
        "                  if split_factor != 0:\n",
        "                      close_price /= split_factor  # 分割後価格で調整\n",
        "              except Exception as e:\n",
        "                  print(f\"Error calculating split adjustment: {e}\")\n",
        "                  # 必要に応じてデフォルト値を返すなどの処理を追加\n",
        "\n",
        "          return close_price\n",
        "      else:\n",
        "        raise ValueError(\"Historical data is empty.\")\n",
        "        return None\n",
        "\n",
        "def get_adjusted_close_for_month(code, start_date, max_failures=5):\n",
        "    \"\"\"\n",
        "    提出日から1ヶ月分の調整済み終値を取得する。\n",
        "    Adjusted CloseがなければCloseを分割調整して取得。\n",
        "    max_failures: 最大失敗回数を設定\n",
        "    \"\"\"\n",
        "    adjusted_closes = []\n",
        "    current_date = start_date\n",
        "    total_days = 0  # 実際に取得した日数をカウントする\n",
        "    failure_count = 0  # 失敗回数をカウント\n",
        "\n",
        "    # 6ヶ月分以上のデータを取得するまで繰り返し取得\n",
        "    while total_days < 180:\n",
        "        adjusted_date = adjust_to_next_weekday(current_date)\n",
        "\n",
        "        # 同一の日付の調整済み終値を取得しないように、重複チェックを追加\n",
        "        if any(adjusted_date == item['日付'] for item in adjusted_closes):\n",
        "            current_date = adjust_to_next_weekday(current_date + timedelta(days=1))  # 重複している場合は次の日に進む\n",
        "            continue\n",
        "\n",
        "        adj_close_price = get_adjusted_close_with_calculation(code, adjusted_date)\n",
        "\n",
        "        if adj_close_price is not None:\n",
        "            adjusted_closes.append({\n",
        "                \"証券コード\": code,\n",
        "                \"日付\": adjusted_date,\n",
        "                \"調整済み終値\": adj_close_price\n",
        "            })\n",
        "            total_days += 1  # 取得したデータのカウントを進める\n",
        "            failure_count = 0  # 成功した場合、失敗カウントをリセット\n",
        "            current_date += timedelta(days=1) # データを取得した日を次の日に進める\n",
        "        else:\n",
        "            failure_count += 1\n",
        "            if failure_count >= max_failures:\n",
        "                print(f\"銘柄 {code} は失敗回数が {max_failures} 回に達したため、処理をスキップします。\")\n",
        "                break  # 最大失敗回数に達したら処理をスキップ\n",
        "            current_date += timedelta(days=1)  # 失敗した場合は次の日に進む\n",
        "\n",
        "        current_date = adjust_to_next_weekday(current_date + timedelta(days=1))\n",
        "\n",
        "    return adjusted_closes\n",
        "\n",
        "def process_in_batches(df, batch_size):\n",
        "    \"\"\"\n",
        "    バッチ処理を行う関数。\n",
        "    \"\"\"\n",
        "    adjusted_data = []\n",
        "    num_batches = (len(df) + batch_size - 1) // batch_size\n",
        "\n",
        "    for batch_num in range(num_batches):\n",
        "        start_idx = batch_num * batch_size\n",
        "        end_idx = min((batch_num + 1) * batch_size, len(df))\n",
        "        batch_df = df.iloc[start_idx:end_idx]\n",
        "\n",
        "        # tqdmで進捗バーを表示\n",
        "        for index, row in tqdm(batch_df.iterrows(), total=batch_df.shape[0], desc=f\"バッチ {batch_num + 1}/{num_batches}\"):\n",
        "            code = row[\"証券コード\"]\n",
        "\n",
        "            # 提出日_180日後をdatetime型に変換してから1日追加\n",
        "            start_date = datetime.strptime(row[\"提出日\"], \"%Y-%m-%d\") + timedelta(days=1)\n",
        "\n",
        "            adjusted_closes = get_adjusted_close_for_month(code, start_date)\n",
        "\n",
        "            # 調整済み終値のデータを追加\n",
        "            adjusted_data.extend(adjusted_closes)\n",
        "\n",
        "            # リクエストの間隔を調整（1秒待機）\n",
        "            time.sleep(5)\n",
        "\n",
        "    return adjusted_data\n",
        "\n",
        "# バッチ処理を使用して調整済み終値を取得\n",
        "batch_size = 100  # バッチサイズを設定\n",
        "\n",
        "adjusted_data = process_in_batches(df_Y, batch_size=batch_size)\n",
        "\n",
        "# 新しいデータフレームに結果を格納\n",
        "df_adjusted = pd.DataFrame(adjusted_data)\n",
        "print(df_adjusted.columns)\n",
        "\n",
        "# 銘柄ごとのデータ数をカウントし、180未満のものを削除\n",
        "df_adjusted = df_adjusted.groupby('証券コード').filter(lambda x: len(x) >= 180)\n",
        "\n",
        "# 結果を表示\n",
        "display(df_adjusted)\n"
      ],
      "metadata": {
        "colab": {
          "base_uri": "https://localhost:8080/",
          "height": 591
        },
        "id": "xHz8uugZebtC",
        "outputId": "a827d4af-b012-441a-b4a2-79e9b7e5fb66"
      },
      "execution_count": null,
      "outputs": [
        {
          "output_type": "stream",
          "name": "stderr",
          "text": [
            "\rバッチ 1/2:   0%|          | 0/100 [00:00<?, ?it/s]ERROR:yfinance:$4448.T: possibly delisted; no price data found  (1d 2023-03-31 -> 2023-04-01)\n",
            "ERROR:yfinance:$4448.T: possibly delisted; no price data found  (1d 1926-02-08 -> 2025-01-14)\n",
            "ERROR:yfinance:$4448.T: possibly delisted; no price data found  (1d 2023-04-03 -> 2023-04-04)\n",
            "ERROR:yfinance:$4448.T: possibly delisted; no price data found  (1d 1926-02-08 -> 2025-01-14)\n",
            "ERROR:yfinance:$4448.T: possibly delisted; no price data found  (1d 2023-04-05 -> 2023-04-06)\n",
            "ERROR:yfinance:$4448.T: possibly delisted; no price data found  (1d 1926-02-08 -> 2025-01-14)\n",
            "ERROR:yfinance:$4448.T: possibly delisted; no price data found  (1d 2023-04-07 -> 2023-04-08)\n",
            "ERROR:yfinance:$4448.T: possibly delisted; no price data found  (1d 1926-02-08 -> 2025-01-14)\n",
            "ERROR:yfinance:$4448.T: possibly delisted; no price data found  (1d 2023-04-10 -> 2023-04-11)\n",
            "ERROR:yfinance:$4448.T: possibly delisted; no price data found  (1d 1926-02-08 -> 2025-01-14)\n"
          ]
        },
        {
          "output_type": "stream",
          "name": "stdout",
          "text": [
            "銘柄 4448 は失敗回数が 5 回に達したため、処理をスキップします。\n"
          ]
        },
        {
          "output_type": "stream",
          "name": "stderr",
          "text": [
            "\rバッチ 1/2:   0%|          | 0/100 [00:09<?, ?it/s]\n"
          ]
        },
        {
          "output_type": "error",
          "ename": "KeyboardInterrupt",
          "evalue": "",
          "traceback": [
            "\u001b[0;31m---------------------------------------------------------------------------\u001b[0m",
            "\u001b[0;31mKeyboardInterrupt\u001b[0m                         Traceback (most recent call last)",
            "\u001b[0;32m<ipython-input-5-8d8a2eacfee4>\u001b[0m in \u001b[0;36m<cell line: 126>\u001b[0;34m()\u001b[0m\n\u001b[1;32m    124\u001b[0m \u001b[0mbatch_size\u001b[0m \u001b[0;34m=\u001b[0m \u001b[0;36m100\u001b[0m  \u001b[0;31m# バッチサイズを設定\u001b[0m\u001b[0;34m\u001b[0m\u001b[0;34m\u001b[0m\u001b[0m\n\u001b[1;32m    125\u001b[0m \u001b[0;34m\u001b[0m\u001b[0m\n\u001b[0;32m--> 126\u001b[0;31m \u001b[0madjusted_data\u001b[0m \u001b[0;34m=\u001b[0m \u001b[0mprocess_in_batches\u001b[0m\u001b[0;34m(\u001b[0m\u001b[0mdf_Y\u001b[0m\u001b[0;34m,\u001b[0m \u001b[0mbatch_size\u001b[0m\u001b[0;34m=\u001b[0m\u001b[0mbatch_size\u001b[0m\u001b[0;34m)\u001b[0m\u001b[0;34m\u001b[0m\u001b[0;34m\u001b[0m\u001b[0m\n\u001b[0m\u001b[1;32m    127\u001b[0m \u001b[0;34m\u001b[0m\u001b[0m\n\u001b[1;32m    128\u001b[0m \u001b[0;31m# 新しいデータフレームに結果を格納\u001b[0m\u001b[0;34m\u001b[0m\u001b[0;34m\u001b[0m\u001b[0m\n",
            "\u001b[0;32m<ipython-input-5-8d8a2eacfee4>\u001b[0m in \u001b[0;36mprocess_in_batches\u001b[0;34m(df, batch_size)\u001b[0m\n\u001b[1;32m    117\u001b[0m \u001b[0;34m\u001b[0m\u001b[0m\n\u001b[1;32m    118\u001b[0m             \u001b[0;31m# リクエストの間隔を調整（1秒待機）\u001b[0m\u001b[0;34m\u001b[0m\u001b[0;34m\u001b[0m\u001b[0m\n\u001b[0;32m--> 119\u001b[0;31m             \u001b[0mtime\u001b[0m\u001b[0;34m.\u001b[0m\u001b[0msleep\u001b[0m\u001b[0;34m(\u001b[0m\u001b[0;36m5\u001b[0m\u001b[0;34m)\u001b[0m\u001b[0;34m\u001b[0m\u001b[0;34m\u001b[0m\u001b[0m\n\u001b[0m\u001b[1;32m    120\u001b[0m \u001b[0;34m\u001b[0m\u001b[0m\n\u001b[1;32m    121\u001b[0m     \u001b[0;32mreturn\u001b[0m \u001b[0madjusted_data\u001b[0m\u001b[0;34m\u001b[0m\u001b[0;34m\u001b[0m\u001b[0m\n",
            "\u001b[0;31mKeyboardInterrupt\u001b[0m: "
          ]
        }
      ]
    },
    {
      "cell_type": "code",
      "source": [
        "import os\n",
        "\n",
        "# Google Drive 内の保存先パスを指定\n",
        "base_path = '/content/drive/My Drive/yfinance_csvfile/df_savedyfinance'\n",
        "file_extension = '.csv'\n",
        "\n",
        "# ファイル番号を自動的に増加させて新しいファイル名を決定\n",
        "file_number = 1\n",
        "save_path = f\"{base_path}{file_number}{file_extension}\"\n",
        "\n",
        "# 同じ名前のファイルがすでに存在するか確認し、存在する場合はファイル番号を増やす\n",
        "while os.path.exists(save_path):\n",
        "    file_number += 1\n",
        "    save_path = f\"{base_path}{file_number}{file_extension}\"\n",
        "\n",
        "# CSV ファイルとして保存\n",
        "df_adjusted.to_csv(save_path, index=False, encoding='utf-8-sig')  # `utf-8-sig` で日本語対応\n",
        "\n",
        "print(f\"DataFrame を保存しました: {save_path}\")\n"
      ],
      "metadata": {
        "id": "BvvkskrsAVZv",
        "colab": {
          "base_uri": "https://localhost:8080/"
        },
        "outputId": "b4bcf406-d856-4a74-ca94-4cf7911e2569"
      },
      "execution_count": null,
      "outputs": [
        {
          "output_type": "stream",
          "name": "stdout",
          "text": [
            "DataFrame を保存しました: /content/drive/My Drive/yfinance_csvfile/df_savedyfinance13.csv\n"
          ]
        }
      ]
    },
    {
      "cell_type": "code",
      "source": [],
      "metadata": {
        "id": "nfkZcd_tynBo"
      },
      "execution_count": null,
      "outputs": []
    }
  ]
}